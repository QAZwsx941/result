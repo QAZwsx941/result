{
 "cells": [
  {
   "cell_type": "code",
   "execution_count": 1,
   "id": "f3cab0c7",
   "metadata": {},
   "outputs": [],
   "source": [
    "import os\n",
    "\n",
    "def batch_rename_npy_to_png(folder_path):\n",
    "    for filename in os.listdir(folder_path):\n",
    "        if filename.endswith('.png'):\n",
    "            # 构造旧文件路径\n",
    "            old_file_path = os.path.join(folder_path, filename)\n",
    "            # 构造新文件路径\n",
    "            new_file_path = os.path.join(folder_path, os.path.splitext(filename)[0] + '_segmentation.png')\n",
    "            # 重命名文件\n",
    "            os.rename(old_file_path, new_file_path)\n"
   ]
  },
  {
   "cell_type": "code",
   "execution_count": 2,
   "id": "1e1a7f45",
   "metadata": {},
   "outputs": [],
   "source": [
    "folder_path = './masks'\n",
    "batch_rename_npy_to_png(folder_path)\n"
   ]
  }
 ],
 "metadata": {
  "kernelspec": {
   "display_name": "py3.7",
   "language": "python",
   "name": "py3.7"
  },
  "language_info": {
   "codemirror_mode": {
    "name": "ipython",
    "version": 3
   },
   "file_extension": ".py",
   "mimetype": "text/x-python",
   "name": "python",
   "nbconvert_exporter": "python",
   "pygments_lexer": "ipython3",
   "version": "3.7.16"
  }
 },
 "nbformat": 4,
 "nbformat_minor": 5
}
