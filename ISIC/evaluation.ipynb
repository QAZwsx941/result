{
 "cells": [
  {
   "cell_type": "code",
   "execution_count": 1,
   "id": "c09cf2ba",
   "metadata": {},
   "outputs": [],
   "source": [
    "import torch\n",
    "\n",
    "# SR : Segmentation Result\n",
    "# GT : Ground Truth"
   ]
  },
  {
   "cell_type": "code",
   "execution_count": 2,
   "id": "491a5994",
   "metadata": {},
   "outputs": [],
   "source": [
    "def get_accuracy(SR,GT,threshold=0.5):\n",
    "    SR = SR > threshold\n",
    "    GT = GT == torch.max(GT)\n",
    "    corr = torch.sum(SR==GT)\n",
    "    tensor_size = SR.size(0)*SR.size(1)*SR.size(2)*SR.size(3)\n",
    "    acc = float(corr)/float(tensor_size)\n",
    "\n",
    "    return acc"
   ]
  },
  {
   "cell_type": "code",
   "execution_count": 3,
   "id": "d284c357",
   "metadata": {},
   "outputs": [],
   "source": [
    "def get_sensitivity(SR,GT,threshold=0.5):\n",
    "    # Sensitivity == Recall\n",
    "    SR = SR > threshold\n",
    "    GT = GT == torch.max(GT)\n",
    "\n",
    "    # TP : True Positive\n",
    "    # FN : False Negative\n",
    "    TP = ((SR==1)+(GT==1))==2\n",
    "    FN = ((SR==0)+(GT==1))==2\n",
    "\n",
    "    SE = float(torch.sum(TP))/(float(torch.sum(TP+FN)) + 1e-6)     \n",
    "    \n",
    "    return SE"
   ]
  },
  {
   "cell_type": "code",
   "execution_count": 4,
   "id": "b59f9edf",
   "metadata": {},
   "outputs": [],
   "source": [
    "def get_specificity(SR,GT,threshold=0.5):\n",
    "    SR = SR > threshold\n",
    "    GT = GT == torch.max(GT)\n",
    "\n",
    "    # TN : True Negative\n",
    "    # FP : False Positive\n",
    "    TN = ((SR==0)+(GT==0))==2\n",
    "    FP = ((SR==1)+(GT==0))==2\n",
    "\n",
    "    SP = float(torch.sum(TN))/(float(torch.sum(TN+FP)) + 1e-6)\n",
    "    \n",
    "    return SP"
   ]
  },
  {
   "cell_type": "code",
   "execution_count": 5,
   "id": "8086376e",
   "metadata": {},
   "outputs": [],
   "source": [
    "def get_precision(SR,GT,threshold=0.5):\n",
    "    SR = SR > threshold\n",
    "    GT = GT == torch.max(GT)\n",
    "\n",
    "    # TP : True Positive\n",
    "    # FP : False Positive\n",
    "    TP = ((SR==1)+(GT==1))==2\n",
    "    FP = ((SR==1)+(GT==0))==2\n",
    "\n",
    "    PC = float(torch.sum(TP))/(float(torch.sum(TP+FP)) + 1e-6)\n",
    "\n",
    "    return PC"
   ]
  },
  {
   "cell_type": "code",
   "execution_count": 6,
   "id": "1e4637d3",
   "metadata": {},
   "outputs": [],
   "source": [
    "def get_F1(SR,GT,threshold=0.5):\n",
    "    # Sensitivity == Recall\n",
    "    SE = get_sensitivity(SR,GT,threshold=threshold)\n",
    "    PC = get_precision(SR,GT,threshold=threshold)\n",
    "\n",
    "    F1 = 2*SE*PC/(SE+PC + 1e-6)\n",
    "\n",
    "    return F1\n"
   ]
  },
  {
   "cell_type": "code",
   "execution_count": 7,
   "id": "95a6d264",
   "metadata": {},
   "outputs": [],
   "source": [
    "def get_JS(SR,GT,threshold=0.5):\n",
    "    # JS : Jaccard similarity\n",
    "    SR = SR > threshold\n",
    "    GT = GT == torch.max(GT)\n",
    "    \n",
    "    Inter = torch.sum((SR+GT)==2)\n",
    "    Union = torch.sum((SR+GT)>=1)\n",
    "    \n",
    "    JS = float(Inter)/(float(Union) + 1e-6)\n",
    "    \n",
    "    return JS"
   ]
  },
  {
   "cell_type": "code",
   "execution_count": 8,
   "id": "c886ad6a",
   "metadata": {},
   "outputs": [],
   "source": [
    "def get_DC(SR,GT,threshold=0.5):\n",
    "    # DC : Dice Coefficient\n",
    "    SR = SR > threshold\n",
    "    GT = GT == torch.max(GT)\n",
    "\n",
    "    Inter = torch.sum((SR+GT)==2)\n",
    "    DC = float(2*Inter)/(float(torch.sum(SR)+torch.sum(GT)) + 1e-6)\n",
    "\n",
    "    return DC\n"
   ]
  }
 ],
 "metadata": {
  "kernelspec": {
   "display_name": "py3.7",
   "language": "python",
   "name": "py3.7"
  },
  "language_info": {
   "codemirror_mode": {
    "name": "ipython",
    "version": 3
   },
   "file_extension": ".py",
   "mimetype": "text/x-python",
   "name": "python",
   "nbconvert_exporter": "python",
   "pygments_lexer": "ipython3",
   "version": "3.7.16"
  }
 },
 "nbformat": 4,
 "nbformat_minor": 5
}
